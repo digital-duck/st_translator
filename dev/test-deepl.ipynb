{
 "cells": [
  {
   "cell_type": "code",
   "execution_count": 1,
   "id": "58eada1a-252d-4529-85f8-07a57912f2c1",
   "metadata": {},
   "outputs": [],
   "source": [
    "import deepl\n",
    "import os\n",
    "from dotenv import load_dotenv\n",
    "\n",
    "# Load environment variables from .env file\n",
    "load_dotenv()\n",
    "\n",
    "# Initialize DeepL translator\n",
    "DEEPL_AUTH_KEY = os.getenv('DEEPL_AUTH_KEY')"
   ]
  },
  {
   "cell_type": "raw",
   "id": "5222153d-65f7-4715-bcf1-b5a0b1f95f71",
   "metadata": {},
   "source": [
    "DEEPL_AUTH_KEY"
   ]
  },
  {
   "cell_type": "code",
   "execution_count": 3,
   "id": "0de5e708-349e-4b6a-a1b8-b5adf04e5244",
   "metadata": {},
   "outputs": [],
   "source": [
    "deepl_translator = deepl.Translator(DEEPL_AUTH_KEY)"
   ]
  },
  {
   "cell_type": "code",
   "execution_count": 4,
   "id": "3399391c-7706-4ce0-98c5-50b989371ad3",
   "metadata": {},
   "outputs": [],
   "source": [
    "target_languages = {lang.code: lang.name for lang in deepl_translator.get_target_languages()}"
   ]
  },
  {
   "cell_type": "code",
   "execution_count": 5,
   "id": "60e8f0f3-e614-48eb-9e0d-6b4791ff4404",
   "metadata": {},
   "outputs": [
    {
     "data": {
      "text/plain": [
       "{'BG': 'Bulgarian',\n",
       " 'CS': 'Czech',\n",
       " 'DA': 'Danish',\n",
       " 'DE': 'German',\n",
       " 'EL': 'Greek',\n",
       " 'EN-GB': 'English (British)',\n",
       " 'EN-US': 'English (American)',\n",
       " 'ES': 'Spanish',\n",
       " 'ET': 'Estonian',\n",
       " 'FI': 'Finnish',\n",
       " 'FR': 'French',\n",
       " 'HU': 'Hungarian',\n",
       " 'ID': 'Indonesian',\n",
       " 'IT': 'Italian',\n",
       " 'JA': 'Japanese',\n",
       " 'KO': 'Korean',\n",
       " 'LT': 'Lithuanian',\n",
       " 'LV': 'Latvian',\n",
       " 'NB': 'Norwegian',\n",
       " 'NL': 'Dutch',\n",
       " 'PL': 'Polish',\n",
       " 'PT-BR': 'Portuguese (Brazilian)',\n",
       " 'PT-PT': 'Portuguese (European)',\n",
       " 'RO': 'Romanian',\n",
       " 'RU': 'Russian',\n",
       " 'SK': 'Slovak',\n",
       " 'SL': 'Slovenian',\n",
       " 'SV': 'Swedish',\n",
       " 'TR': 'Turkish',\n",
       " 'UK': 'Ukrainian',\n",
       " 'ZH': 'Chinese (simplified)',\n",
       " 'ZH-HANS': 'Chinese (simplified)'}"
      ]
     },
     "execution_count": 5,
     "metadata": {},
     "output_type": "execute_result"
    }
   ],
   "source": [
    "target_languages"
   ]
  },
  {
   "cell_type": "code",
   "execution_count": null,
   "id": "8697f527-f63e-47a1-9f7b-628bbb052bd3",
   "metadata": {},
   "outputs": [],
   "source": []
  }
 ],
 "metadata": {
  "kernelspec": {
   "display_name": "Python 3 (ipykernel)",
   "language": "python",
   "name": "python3"
  },
  "language_info": {
   "codemirror_mode": {
    "name": "ipython",
    "version": 3
   },
   "file_extension": ".py",
   "mimetype": "text/x-python",
   "name": "python",
   "nbconvert_exporter": "python",
   "pygments_lexer": "ipython3",
   "version": "3.11.5"
  }
 },
 "nbformat": 4,
 "nbformat_minor": 5
}
